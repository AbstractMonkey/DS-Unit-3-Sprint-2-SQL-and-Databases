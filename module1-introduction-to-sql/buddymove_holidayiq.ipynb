{
  "nbformat": 4,
  "nbformat_minor": 0,
  "metadata": {
    "colab": {
      "name": "buddymove_holidayiq.ipynb",
      "provenance": [],
      "collapsed_sections": []
    },
    "kernelspec": {
      "name": "python3",
      "display_name": "Python 3"
    }
  },
  "cells": [
    {
      "cell_type": "code",
      "metadata": {
        "id": "7qjdGknyO7rG",
        "colab_type": "code",
        "outputId": "75f148f5-b356-4193-d5c9-67d04908ed19",
        "colab": {
          "base_uri": "https://localhost:8080/",
          "height": 230
        }
      },
      "source": [
        "import os\n",
        "import sqlite3\n",
        "import pandas as pd\n",
        "\n",
        "!wget 'https://raw.githubusercontent.com/AbstractMonkey/DS-Unit-3-Sprint-2-SQL-and-Databases/master/module1-introduction-to-sql/buddymove_holidayiq.csv'\n",
        "data = pd.read_csv('buddymove_holidayiq.csv', error_bad_lines=False)"
      ],
      "execution_count": 1,
      "outputs": [
        {
          "output_type": "stream",
          "text": [
            "--2019-11-21 02:23:02--  https://raw.githubusercontent.com/AbstractMonkey/DS-Unit-3-Sprint-2-SQL-and-Databases/master/module1-introduction-to-sql/buddymove_holidayiq.csv\n",
            "Resolving raw.githubusercontent.com (raw.githubusercontent.com)... 151.101.0.133, 151.101.64.133, 151.101.128.133, ...\n",
            "Connecting to raw.githubusercontent.com (raw.githubusercontent.com)|151.101.0.133|:443... connected.\n",
            "HTTP request sent, awaiting response... 200 OK\n",
            "Length: 7566 (7.4K) [text/plain]\n",
            "Saving to: ‘buddymove_holidayiq.csv’\n",
            "\n",
            "\rbuddymove_holidayiq   0%[                    ]       0  --.-KB/s               \rbuddymove_holidayiq 100%[===================>]   7.39K  --.-KB/s    in 0s      \n",
            "\n",
            "2019-11-21 02:23:02 (98.2 MB/s) - ‘buddymove_holidayiq.csv’ saved [7566/7566]\n",
            "\n"
          ],
          "name": "stdout"
        }
      ]
    },
    {
      "cell_type": "code",
      "metadata": {
        "id": "DjCXh4-kp2XK",
        "colab_type": "code",
        "colab": {
          "base_uri": "https://localhost:8080/",
          "height": 195
        },
        "outputId": "35ed9fb0-9104-418c-bd68-21d4f430e0d6"
      },
      "source": [
        "data.head()"
      ],
      "execution_count": 2,
      "outputs": [
        {
          "output_type": "execute_result",
          "data": {
            "text/html": [
              "<div>\n",
              "<style scoped>\n",
              "    .dataframe tbody tr th:only-of-type {\n",
              "        vertical-align: middle;\n",
              "    }\n",
              "\n",
              "    .dataframe tbody tr th {\n",
              "        vertical-align: top;\n",
              "    }\n",
              "\n",
              "    .dataframe thead th {\n",
              "        text-align: right;\n",
              "    }\n",
              "</style>\n",
              "<table border=\"1\" class=\"dataframe\">\n",
              "  <thead>\n",
              "    <tr style=\"text-align: right;\">\n",
              "      <th></th>\n",
              "      <th>User Id</th>\n",
              "      <th>Sports</th>\n",
              "      <th>Religious</th>\n",
              "      <th>Nature</th>\n",
              "      <th>Theatre</th>\n",
              "      <th>Shopping</th>\n",
              "      <th>Picnic</th>\n",
              "    </tr>\n",
              "  </thead>\n",
              "  <tbody>\n",
              "    <tr>\n",
              "      <th>0</th>\n",
              "      <td>User 1</td>\n",
              "      <td>2</td>\n",
              "      <td>77</td>\n",
              "      <td>79</td>\n",
              "      <td>69</td>\n",
              "      <td>68</td>\n",
              "      <td>95</td>\n",
              "    </tr>\n",
              "    <tr>\n",
              "      <th>1</th>\n",
              "      <td>User 2</td>\n",
              "      <td>2</td>\n",
              "      <td>62</td>\n",
              "      <td>76</td>\n",
              "      <td>76</td>\n",
              "      <td>69</td>\n",
              "      <td>68</td>\n",
              "    </tr>\n",
              "    <tr>\n",
              "      <th>2</th>\n",
              "      <td>User 3</td>\n",
              "      <td>2</td>\n",
              "      <td>50</td>\n",
              "      <td>97</td>\n",
              "      <td>87</td>\n",
              "      <td>50</td>\n",
              "      <td>75</td>\n",
              "    </tr>\n",
              "    <tr>\n",
              "      <th>3</th>\n",
              "      <td>User 4</td>\n",
              "      <td>2</td>\n",
              "      <td>68</td>\n",
              "      <td>77</td>\n",
              "      <td>95</td>\n",
              "      <td>76</td>\n",
              "      <td>61</td>\n",
              "    </tr>\n",
              "    <tr>\n",
              "      <th>4</th>\n",
              "      <td>User 5</td>\n",
              "      <td>2</td>\n",
              "      <td>98</td>\n",
              "      <td>54</td>\n",
              "      <td>59</td>\n",
              "      <td>95</td>\n",
              "      <td>86</td>\n",
              "    </tr>\n",
              "  </tbody>\n",
              "</table>\n",
              "</div>"
            ],
            "text/plain": [
              "  User Id  Sports  Religious  Nature  Theatre  Shopping  Picnic\n",
              "0  User 1       2         77      79       69        68      95\n",
              "1  User 2       2         62      76       76        69      68\n",
              "2  User 3       2         50      97       87        50      75\n",
              "3  User 4       2         68      77       95        76      61\n",
              "4  User 5       2         98      54       59        95      86"
            ]
          },
          "metadata": {
            "tags": []
          },
          "execution_count": 2
        }
      ]
    },
    {
      "cell_type": "code",
      "metadata": {
        "id": "IBiQt8cNmDFi",
        "colab_type": "code",
        "colab": {
          "base_uri": "https://localhost:8080/",
          "height": 72
        },
        "outputId": "d4936187-cc4e-4947-ebaf-7ef0607332a1"
      },
      "source": [
        "# Instantiate empty SQL database\n",
        "conn = sqlite3.connect('buddymove_holidayiq.sqlite3')\n",
        "\n",
        "# Convert DataFrame to SQL database\n",
        "data.to_sql('review', conn)\n",
        "\n",
        "csr = conn.cursor()"
      ],
      "execution_count": 3,
      "outputs": [
        {
          "output_type": "stream",
          "text": [
            "/usr/local/lib/python3.6/dist-packages/pandas/core/generic.py:2712: UserWarning: The spaces in these column names will not be changed. In pandas versions < 0.14, spaces were converted to underscores.\n",
            "  method=method,\n"
          ],
          "name": "stderr"
        }
      ]
    },
    {
      "cell_type": "markdown",
      "metadata": {
        "id": "KuFZxDxBxXZP",
        "colab_type": "text"
      },
      "source": [
        "Count how many rows you have - it should be 249!"
      ]
    },
    {
      "cell_type": "code",
      "metadata": {
        "id": "4qQrA338mFqb",
        "colab_type": "code",
        "colab": {
          "base_uri": "https://localhost:8080/",
          "height": 34
        },
        "outputId": "0c955a18-aaf3-4690-ea8a-fb890a5bb991"
      },
      "source": [
        "csr.execute(\"SELECT COUNT(*) FROM review\").fetchall()"
      ],
      "execution_count": 4,
      "outputs": [
        {
          "output_type": "execute_result",
          "data": {
            "text/plain": [
              "[(249,)]"
            ]
          },
          "metadata": {
            "tags": []
          },
          "execution_count": 4
        }
      ]
    },
    {
      "cell_type": "markdown",
      "metadata": {
        "id": "-ofbT9Nvu28k",
        "colab_type": "text"
      },
      "source": [
        "How many users who reviewed at least 100 Nature in the category also reviewed at least 100 in the Shopping category?\n"
      ]
    },
    {
      "cell_type": "code",
      "metadata": {
        "id": "tnxrROWgxmwM",
        "colab_type": "code",
        "colab": {
          "base_uri": "https://localhost:8080/",
          "height": 34
        },
        "outputId": "b4eafbfb-a5e5-4dec-b358-35a24a98f02f"
      },
      "source": [
        "csr.execute(\"SELECT COUNT(*) FROM review WHERE Nature > 100 AND Shopping > 100\").fetchall()"
      ],
      "execution_count": 10,
      "outputs": [
        {
          "output_type": "execute_result",
          "data": {
            "text/plain": [
              "[(78,)]"
            ]
          },
          "metadata": {
            "tags": []
          },
          "execution_count": 10
        }
      ]
    },
    {
      "cell_type": "markdown",
      "metadata": {
        "id": "Y5Qad2SIxbmD",
        "colab_type": "text"
      },
      "source": [
        "(Stretch) What are the average number of reviews for each category?"
      ]
    },
    {
      "cell_type": "markdown",
      "metadata": {
        "id": "cX1ofR3MzB2W",
        "colab_type": "text"
      },
      "source": [
        "Sports\tReligious\tNature\tTheatre\tShopping\tPicnic"
      ]
    },
    {
      "cell_type": "code",
      "metadata": {
        "id": "zFHaV2pjxbXo",
        "colab_type": "code",
        "colab": {
          "base_uri": "https://localhost:8080/",
          "height": 34
        },
        "outputId": "cafb29e9-3386-4e7b-9936-53113b02a039"
      },
      "source": [
        "csr.execute(\"SELECT AVG(Sports) FROM review\").fetchall()"
      ],
      "execution_count": 13,
      "outputs": [
        {
          "output_type": "execute_result",
          "data": {
            "text/plain": [
              "[(11.987951807228916,)]"
            ]
          },
          "metadata": {
            "tags": []
          },
          "execution_count": 13
        }
      ]
    },
    {
      "cell_type": "code",
      "metadata": {
        "id": "iLyGthe8zESo",
        "colab_type": "code",
        "colab": {
          "base_uri": "https://localhost:8080/",
          "height": 34
        },
        "outputId": "5bf532ab-96cd-4677-ca53-53edd7e98c12"
      },
      "source": [
        "csr.execute(\"SELECT AVG(Religious) FROM review\").fetchall()"
      ],
      "execution_count": 14,
      "outputs": [
        {
          "output_type": "execute_result",
          "data": {
            "text/plain": [
              "[(109.77911646586345,)]"
            ]
          },
          "metadata": {
            "tags": []
          },
          "execution_count": 14
        }
      ]
    },
    {
      "cell_type": "code",
      "metadata": {
        "id": "XGucRBb8zEf4",
        "colab_type": "code",
        "colab": {
          "base_uri": "https://localhost:8080/",
          "height": 34
        },
        "outputId": "620e3254-6da9-4143-8384-c15bceb90034"
      },
      "source": [
        "csr.execute(\"SELECT AVG(Nature) FROM review\").fetchall()"
      ],
      "execution_count": 15,
      "outputs": [
        {
          "output_type": "execute_result",
          "data": {
            "text/plain": [
              "[(124.51807228915662,)]"
            ]
          },
          "metadata": {
            "tags": []
          },
          "execution_count": 15
        }
      ]
    },
    {
      "cell_type": "code",
      "metadata": {
        "id": "HCo2Cv0NzEw0",
        "colab_type": "code",
        "colab": {
          "base_uri": "https://localhost:8080/",
          "height": 34
        },
        "outputId": "6e5ca558-6a00-4047-a842-22477237d9e3"
      },
      "source": [
        "csr.execute(\"SELECT AVG(Theatre) FROM review\").fetchall()"
      ],
      "execution_count": 16,
      "outputs": [
        {
          "output_type": "execute_result",
          "data": {
            "text/plain": [
              "[(116.37751004016064,)]"
            ]
          },
          "metadata": {
            "tags": []
          },
          "execution_count": 16
        }
      ]
    },
    {
      "cell_type": "code",
      "metadata": {
        "id": "oxmgOblwzFRA",
        "colab_type": "code",
        "colab": {
          "base_uri": "https://localhost:8080/",
          "height": 34
        },
        "outputId": "e2f744a1-1a67-4e73-cb2c-d11d5ff1e51a"
      },
      "source": [
        "csr.execute(\"SELECT AVG(Shopping) FROM review\").fetchall()"
      ],
      "execution_count": 17,
      "outputs": [
        {
          "output_type": "execute_result",
          "data": {
            "text/plain": [
              "[(112.63855421686748,)]"
            ]
          },
          "metadata": {
            "tags": []
          },
          "execution_count": 17
        }
      ]
    },
    {
      "cell_type": "code",
      "metadata": {
        "id": "dXIUV0ZNzFWg",
        "colab_type": "code",
        "colab": {
          "base_uri": "https://localhost:8080/",
          "height": 34
        },
        "outputId": "4445c7c6-feac-4d37-9bca-fb2a0156ddc2"
      },
      "source": [
        "csr.execute(\"SELECT AVG(Picnic) FROM review\").fetchall()"
      ],
      "execution_count": 18,
      "outputs": [
        {
          "output_type": "execute_result",
          "data": {
            "text/plain": [
              "[(120.40160642570281,)]"
            ]
          },
          "metadata": {
            "tags": []
          },
          "execution_count": 18
        }
      ]
    },
    {
      "cell_type": "markdown",
      "metadata": {
        "id": "qOhF7uL9xfP0",
        "colab_type": "text"
      },
      "source": [
        "Your code (to reproduce all above steps) should be saved in buddymove_holidayiq.py, and added to the repository along with the generated SQLite database."
      ]
    },
    {
      "cell_type": "code",
      "metadata": {
        "id": "-KWutMJHwfJT",
        "colab_type": "code",
        "colab": {
          "base_uri": "https://localhost:8080/",
          "height": 193
        },
        "outputId": "abda6a09-7e27-491f-d736-267042ad42a4"
      },
      "source": [
        "csr.execute(\"SELECT * FROM review LIMIT 10\").fetchall()"
      ],
      "execution_count": 20,
      "outputs": [
        {
          "output_type": "execute_result",
          "data": {
            "text/plain": [
              "[(0, 'User 1', 2, 77, 79, 69, 68, 95),\n",
              " (1, 'User 2', 2, 62, 76, 76, 69, 68),\n",
              " (2, 'User 3', 2, 50, 97, 87, 50, 75),\n",
              " (3, 'User 4', 2, 68, 77, 95, 76, 61),\n",
              " (4, 'User 5', 2, 98, 54, 59, 95, 86),\n",
              " (5, 'User 6', 3, 52, 109, 93, 52, 76),\n",
              " (6, 'User 7', 3, 64, 85, 82, 73, 69),\n",
              " (7, 'User 8', 3, 54, 107, 92, 54, 76),\n",
              " (8, 'User 9', 3, 64, 108, 64, 54, 93),\n",
              " (9, 'User 10', 3, 86, 76, 74, 74, 103)]"
            ]
          },
          "metadata": {
            "tags": []
          },
          "execution_count": 20
        }
      ]
    },
    {
      "cell_type": "code",
      "metadata": {
        "id": "zaG3TI1ByBnN",
        "colab_type": "code",
        "colab": {
          "base_uri": "https://localhost:8080/",
          "height": 158
        },
        "outputId": "ab7aad7f-adf3-4a5d-a0af-4bcdec6f79d7"
      },
      "source": [
        "csr.execute(\"PRAGMA table_info('review')\").fetchall()"
      ],
      "execution_count": 26,
      "outputs": [
        {
          "output_type": "execute_result",
          "data": {
            "text/plain": [
              "[(0, 'index', 'INTEGER', 0, None, 0),\n",
              " (1, 'User Id', 'TEXT', 0, None, 0),\n",
              " (2, 'Sports', 'INTEGER', 0, None, 0),\n",
              " (3, 'Religious', 'INTEGER', 0, None, 0),\n",
              " (4, 'Nature', 'INTEGER', 0, None, 0),\n",
              " (5, 'Theatre', 'INTEGER', 0, None, 0),\n",
              " (6, 'Shopping', 'INTEGER', 0, None, 0),\n",
              " (7, 'Picnic', 'INTEGER', 0, None, 0)]"
            ]
          },
          "metadata": {
            "tags": []
          },
          "execution_count": 26
        }
      ]
    }
  ]
}